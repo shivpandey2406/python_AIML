{
  "nbformat": 4,
  "nbformat_minor": 0,
  "metadata": {
    "colab": {
      "provenance": [],
      "authorship_tag": "ABX9TyNfz8s/GhRSw4DB2RtA5cuR",
      "include_colab_link": true
    },
    "kernelspec": {
      "name": "python3",
      "display_name": "Python 3"
    },
    "language_info": {
      "name": "python"
    }
  },
  "cells": [
    {
      "cell_type": "markdown",
      "metadata": {
        "id": "view-in-github",
        "colab_type": "text"
      },
      "source": [
        "<a href=\"https://colab.research.google.com/github/shivpandey2406/python_AIML/blob/main/Dict962024.ipynb\" target=\"_parent\"><img src=\"https://colab.research.google.com/assets/colab-badge.svg\" alt=\"Open In Colab\"/></a>"
      ]
    },
    {
      "cell_type": "markdown",
      "source": [
        "### Dictionary Problems"
      ],
      "metadata": {
        "id": "OW2AtgcrA0tr"
      }
    },
    {
      "cell_type": "code",
      "execution_count": 2,
      "metadata": {
        "colab": {
          "base_uri": "https://localhost:8080/"
        },
        "id": "OemiEqXv_kZ2",
        "outputId": "e401e059-8cf9-442a-ae8f-7278764d9af8"
      },
      "outputs": [
        {
          "output_type": "stream",
          "name": "stdout",
          "text": [
            "{'s': 3, 'm': 3, 'k': 3, 'a': 4, 'j': 3, 'r': 2}\n"
          ]
        }
      ],
      "source": [
        "x = ('s','s','s','m','m','m','k','k','k','a','a','a','a','j','j','j','r','r') ## tuple\n",
        "dict = {}\n",
        "for char in x:\n",
        "  if char in dict :\n",
        "    dict[char] += 1\n",
        "  else :\n",
        "    dict[char] = 1\n",
        "\n",
        "print(dict)\n",
        "\n",
        "\n"
      ]
    },
    {
      "cell_type": "code",
      "source": [
        "x1 = ['s','s','k','k','k','l','l','l','a','a','a','d','d'] ### List\n",
        "dict2 = {}\n",
        "for char in x1:\n",
        "  if char in dict2:\n",
        "    dict2[char] += 1\n",
        "  else:\n",
        "    dict2[char] = 1\n",
        "\n",
        "print(dict2)"
      ],
      "metadata": {
        "colab": {
          "base_uri": "https://localhost:8080/"
        },
        "id": "0IcEFlCHCGSy",
        "outputId": "dd67d2c6-8bdb-4875-ffb1-44821582eb0b"
      },
      "execution_count": 9,
      "outputs": [
        {
          "output_type": "stream",
          "name": "stdout",
          "text": [
            "{'s': 2, 'k': 3, 'l': 3, 'a': 3, 'd': 2}\n"
          ]
        }
      ]
    },
    {
      "cell_type": "code",
      "source": [
        "from functools import reduce\n",
        "x1 = ['s','s','k','k','k','l','l','l','a','a','a','d','d'] ### List\n",
        "dict2 = reduce(lambda t, char: t.update({char: t.get(char,0) + 1}) or t, x1,\n",
        "                 {}\n",
        "                )\n",
        "print(dict2)\n",
        "dict2\n",
        "dict2.keys()\n",
        "dict2.values()\n",
        "dict2.items()"
      ],
      "metadata": {
        "colab": {
          "base_uri": "https://localhost:8080/"
        },
        "id": "aqK3HdWKDUgC",
        "outputId": "4359920d-3eb7-49e9-c6b2-3b22c6750f1a"
      },
      "execution_count": 16,
      "outputs": [
        {
          "output_type": "stream",
          "name": "stdout",
          "text": [
            "{'s': 2, 'k': 3, 'l': 3, 'a': 3, 'd': 2}\n"
          ]
        },
        {
          "output_type": "execute_result",
          "data": {
            "text/plain": [
              "dict_items([('s', 2), ('k', 3), ('l', 3), ('a', 3), ('d', 2)])"
            ]
          },
          "metadata": {},
          "execution_count": 16
        }
      ]
    },
    {
      "cell_type": "code",
      "source": [
        "car = {'brand' : 'ford','model': 'mustang','year':1998}\n",
        "car\n",
        "car['year'] = 2024\n",
        "car\n",
        "len(car)\n",
        "car['color'] = 'red'\n",
        "car\n",
        "car = {'brand' : 'ford','model': 'mustang','year':1998,'color' : ['red','green','blue'] }\n",
        "car['year'] = 2024\n",
        "car\n",
        "len(car)\n",
        "type(car)\n",
        "car.get('model')\n",
        "car.get('color')\n",
        "car.keys()\n",
        "car.values()\n",
        "car.items()\n",
        "car.update({'color': 'white'})\n",
        "\n"
      ],
      "metadata": {
        "colab": {
          "base_uri": "https://localhost:8080/"
        },
        "id": "z7cD5Uj8Ndhh",
        "outputId": "fed8e9cf-8127-4de4-8eb3-eea005a993f8"
      },
      "execution_count": 39,
      "outputs": [
        {
          "output_type": "execute_result",
          "data": {
            "text/plain": [
              "{'brand': 'ford', 'model': 'mustang', 'year': 2024, 'color': 'white'}"
            ]
          },
          "metadata": {},
          "execution_count": 39
        }
      ]
    }
  ]
}